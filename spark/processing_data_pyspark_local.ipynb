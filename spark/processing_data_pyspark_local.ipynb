{
 "cells": [
  {
   "cell_type": "code",
   "execution_count": 8,
   "metadata": {},
   "outputs": [],
   "source": [
    "# Importing spark and dependencies\n",
    "\n",
    "import pyspark\n",
    "from pyspark.sql import SparkSession\n",
    "from pyspark.conf import SparkConf\n",
    "from pyspark.context import SparkContext"
   ]
  },
  {
   "cell_type": "code",
   "execution_count": 2,
   "metadata": {},
   "outputs": [],
   "source": [
    "# Pointing to our Google Project credentials\n",
    "\n",
    "credentials_location = '/home/abhirup.ghosh/.gc/gcp_service_capstone.json'"
   ]
  },
  {
   "cell_type": "code",
   "execution_count": 3,
   "metadata": {},
   "outputs": [
    {
     "name": "stdout",
     "output_type": "stream",
     "text": [
      "24/03/30 21:30:49 WARN NativeCodeLoader: Unable to load native-hadoop library for your platform... using builtin-java classes where applicable\n"
     ]
    },
    {
     "name": "stderr",
     "output_type": "stream",
     "text": [
      "Setting default log level to \"WARN\".\n",
      "To adjust logging level use sc.setLogLevel(newLevel). For SparkR, use setLogLevel(newLevel).\n"
     ]
    }
   ],
   "source": [
    "# Setting up spark cluster configurations\n",
    "\n",
    "conf = SparkConf() \\\n",
    "    .setMaster('local[*]') \\\n",
    "    .setAppName('test') \\\n",
    "    .set(\"spark.jars\", \"./lib/gcs-connector-hadoop3-2.2.5.jar\") \\\n",
    "    .set(\"spark.hadoop.google.cloud.auth.service.account.enable\", \"true\") \\\n",
    "    .set(\"spark.hadoop.google.cloud.auth.service.account.json.keyfile\", credentials_location)\n",
    "\n",
    "sc = SparkContext(conf=conf)\n",
    "\n",
    "hadoop_conf = sc._jsc.hadoopConfiguration()\n",
    "\n",
    "hadoop_conf.set(\"fs.AbstractFileSystem.gs.impl\",  \"com.google.cloud.hadoop.fs.gcs.GoogleHadoopFS\")\n",
    "hadoop_conf.set(\"fs.gs.impl\", \"com.google.cloud.hadoop.fs.gcs.GoogleHadoopFileSystem\")\n",
    "hadoop_conf.set(\"fs.gs.auth.service.account.json.keyfile\", credentials_location)\n",
    "hadoop_conf.set(\"fs.gs.auth.service.account.enable\", \"true\")"
   ]
  },
  {
   "cell_type": "code",
   "execution_count": 4,
   "metadata": {},
   "outputs": [],
   "source": [
    "# Setting up spark cluster\n",
    "\n",
    "spark = SparkSession.builder \\\n",
    "    .config(conf=sc.getConf()) \\\n",
    "    .getOrCreate()"
   ]
  },
  {
   "cell_type": "code",
   "execution_count": 38,
   "metadata": {},
   "outputs": [],
   "source": [
    "# reading data as spark dataframes with previously \n",
    "\n",
    "df_appearances = spark.read\\\n",
    "                    .parquet('gs://capstone_datalake/raw/appearances.parquet')\n",
    "\n",
    "df_competitions = spark.read\\\n",
    "                    .parquet('gs://capstone_datalake/raw/competitions.parquet')"
   ]
  },
  {
   "cell_type": "code",
   "execution_count": 49,
   "metadata": {},
   "outputs": [],
   "source": [
    "# merging the data to form one dataset\n",
    "\n",
    "df_data_all = df_appearances.join(df_competitions, on='competition_id', how='left')"
   ]
  },
  {
   "cell_type": "code",
   "execution_count": 50,
   "metadata": {},
   "outputs": [
    {
     "name": "stderr",
     "output_type": "stream",
     "text": [
      "/home/abhirup.ghosh/spark/spark-3.3.2-bin-hadoop3/python/pyspark/sql/dataframe.py:229: FutureWarning: Deprecated in 2.0, use createOrReplaceTempView instead.\n",
      "  warnings.warn(\"Deprecated in 2.0, use createOrReplaceTempView instead.\", FutureWarning)\n"
     ]
    }
   ],
   "source": [
    "df_data_all.registerTempTable('data_all')"
   ]
  },
  {
   "cell_type": "code",
   "execution_count": 52,
   "metadata": {},
   "outputs": [
    {
     "name": "stderr",
     "output_type": "stream",
     "text": [
      "[Stage 38:===========================================>              (3 + 1) / 4]\r"
     ]
    },
    {
     "name": "stdout",
     "output_type": "stream",
     "text": [
      "+--------------+--------------+-------+---------+--------------+----------------------+-------------------+----------------+------------+---------+-----+-------+--------------+--------------------+--------------------+--------------------+-----------------+----------+------------+--------------------+-------------+--------------------+------------------------+\n",
      "|competition_id| appearance_id|game_id|player_id|player_club_id|player_current_club_id|               date|     player_name|yellow_cards|red_cards|goals|assists|minutes_played|    competition_code|                name|            sub_type|             type|country_id|country_name|domestic_league_code|confederation|                 url|is_major_national_league|\n",
      "+--------------+--------------+-------+---------+--------------+----------------------+-------------------+----------------+------------+---------+-----+-------+--------------+--------------------+--------------------+--------------------+-----------------+----------+------------+--------------------+-------------+--------------------+------------------------+\n",
      "|           CLQ| 2231978_38004|2231978|    38004|           853|                   235|2012-07-03 00:00:00|Aurélien Joachim|           0|        0|    2|      0|            90|uefa-champions-le...|uefa-champions-le...|uefa_champions_le...|international_cup|        -1|        null|                null|       europa|https://www.trans...|                   false|\n",
      "|           ELQ| 2233748_79232|2233748|    79232|          8841|                  2698|2012-07-05 00:00:00|  Ruslan Abyshov|           0|        0|    0|      0|            90|europa-league-qua...|europa-league-qua...|europa_league_qua...|international_cup|        -1|        null|                null|       europa|https://www.trans...|                   false|\n",
      "|           ELQ| 2234413_42792|2234413|    42792|          6251|                   465|2012-07-05 00:00:00|     Sander Puri|           0|        0|    0|      0|            45|europa-league-qua...|europa-league-qua...|europa_league_qua...|international_cup|        -1|        null|                null|       europa|https://www.trans...|                   false|\n",
      "|           ELQ| 2234418_73333|2234418|    73333|          1274|                  6646|2012-07-05 00:00:00| Vegar Hedenstad|           0|        0|    0|      0|            90|europa-league-qua...|europa-league-qua...|europa_league_qua...|international_cup|        -1|        null|                null|       europa|https://www.trans...|                   false|\n",
      "|           ELQ|2234421_122011|2234421|   122011|           195|                  3008|2012-07-05 00:00:00|Markus Henriksen|           0|        0|    0|      1|            90|europa-league-qua...|europa-league-qua...|europa_league_qua...|international_cup|        -1|        null|                null|       europa|https://www.trans...|                   false|\n",
      "|           ELQ|2234421_146889|2234421|   146889|           195|                   190|2012-07-05 00:00:00|  Peter Ankersen|           1|        0|    0|      0|            90|europa-league-qua...|europa-league-qua...|europa_league_qua...|international_cup|        -1|        null|                null|       europa|https://www.trans...|                   false|\n",
      "|           ELQ| 2235539_28716|2235539|    28716|           282|                  7185|2012-07-05 00:00:00|    Adi Adilovic|           0|        0|    0|      0|            90|europa-league-qua...|europa-league-qua...|europa_league_qua...|international_cup|        -1|        null|                null|       europa|https://www.trans...|                   false|\n",
      "|           ELQ| 2235539_69445|2235539|    69445|           282|                 19771|2012-07-05 00:00:00|      Ivan Sesar|           1|        0|    0|      1|            90|europa-league-qua...|europa-league-qua...|europa_league_qua...|international_cup|        -1|        null|                null|       europa|https://www.trans...|                   false|\n",
      "|           ELQ| 2235545_19409|2235545|    19409|           317|                   200|2012-07-05 00:00:00|  Willem Janssen|           0|        0|    0|      0|            45|europa-league-qua...|europa-league-qua...|europa_league_qua...|international_cup|        -1|        null|                null|       europa|https://www.trans...|                   false|\n",
      "|           ELQ| 2235545_30003|2235545|    30003|           317|                   317|2012-07-05 00:00:00|      Wout Brama|           0|        0|    0|      0|            90|europa-league-qua...|europa-league-qua...|europa_league_qua...|international_cup|        -1|        null|                null|       europa|https://www.trans...|                   false|\n",
      "+--------------+--------------+-------+---------+--------------+----------------------+-------------------+----------------+------------+---------+-----+-------+--------------+--------------------+--------------------+--------------------+-----------------+----------+------------+--------------------+-------------+--------------------+------------------------+\n",
      "\n"
     ]
    },
    {
     "name": "stderr",
     "output_type": "stream",
     "text": [
      "                                                                                \r"
     ]
    }
   ],
   "source": [
    "spark.sql(\"\"\"\n",
    "SELECT *\n",
    "FROM\n",
    "    data_all\n",
    "LIMIT 10\n",
    "\"\"\").show()"
   ]
  },
  {
   "cell_type": "code",
   "execution_count": 53,
   "metadata": {},
   "outputs": [
    {
     "name": "stderr",
     "output_type": "stream",
     "text": [
      "                                                                                \r"
     ]
    }
   ],
   "source": [
    "df_data_all.coalesce(1).write.parquet('data_all.parquet', mode='overwrite')"
   ]
  },
  {
   "cell_type": "code",
   "execution_count": null,
   "metadata": {},
   "outputs": [],
   "source": []
  }
 ],
 "metadata": {
  "kernelspec": {
   "display_name": "Python 3 (ipykernel)",
   "language": "python",
   "name": "python3"
  },
  "language_info": {
   "codemirror_mode": {
    "name": "ipython",
    "version": 3
   },
   "file_extension": ".py",
   "mimetype": "text/x-python",
   "name": "python",
   "nbconvert_exporter": "python",
   "pygments_lexer": "ipython3",
   "version": "3.11.7"
  }
 },
 "nbformat": 4,
 "nbformat_minor": 4
}
